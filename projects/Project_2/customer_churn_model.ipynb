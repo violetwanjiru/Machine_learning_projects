{
  "nbformat": 4,
  "nbformat_minor": 0,
  "metadata": {
    "colab": {
      "provenance": []
    },
    "kernelspec": {
      "name": "python3",
      "display_name": "Python 3"
    },
    "language_info": {
      "name": "python"
    }
  },
  "cells": [
    {
      "cell_type": "markdown",
      "source": [
        "#Title: Customer Churn Prediction Analysis and Reduction Strategies\n"
      ],
      "metadata": {
        "id": "yUkeTW3uvxuR"
      }
    },
    {
      "cell_type": "markdown",
      "source": [
        "#Problem Statement:\n",
        "\n",
        "Customer churn is a critical challenge for businesses, impacting long-term profitability and growth. Identifying customers who are likely to churn allows businesses to take proactive measures to improve retention. Currently, there is a need to accurately predict customer churn to inform strategic interventions.\n",
        "\n",
        "This project aims to develop a machine learning model that predicts whether a customer will churn based on the provided dataset (‘dataset.csv’). The objective is to analyze the dataset, visualize key trends and patterns related to churn, and provide actionable insights to reduce the churn rate. By splitting the data into training and testing sets, the model will be trained to classify customers as likely to churn or remain, enabling more targeted retention strategies."
      ],
      "metadata": {
        "id": "YmbvvAA_SDng"
      }
    },
    {
      "cell_type": "code",
      "source": [
        "from google.colab import drive\n",
        "drive.mount('/content/drive')"
      ],
      "metadata": {
        "colab": {
          "base_uri": "https://localhost:8080/"
        },
        "id": "h3f_IHroCsL8",
        "outputId": "34ee7e85-f936-41c7-c574-bed81b352051"
      },
      "execution_count": null,
      "outputs": [
        {
          "output_type": "stream",
          "name": "stdout",
          "text": [
            "Drive already mounted at /content/drive; to attempt to forcibly remount, call drive.mount(\"/content/drive\", force_remount=True).\n"
          ]
        }
      ]
    },
    {
      "cell_type": "code",
      "execution_count": null,
      "metadata": {
        "id": "tPkqPE12vo9W"
      },
      "outputs": [],
      "source": [
        "#Import Libraries\n",
        "import numpy as np\n",
        "import pandas as pd\n",
        "import sklearn\n",
        "import matplotlib.pyplot as plt\n",
        "import seaborn as sns\n",
        "from sklearn.preprocessing import LabelEncoder\n",
        "from sklearn.preprocessing import StandardScaler\n",
        "from sklearn.metrics import classification_report\n",
        "from sklearn.linear_model import LogisticRegression\n",
        "from sklearn.ensemble import RandomForestClassifier\n",
        "from sklearn.model_selection import train_test_split"
      ]
    },
    {
      "cell_type": "code",
      "source": [
        "#load the date\n",
        "df = pd.read_csv(r'/content/drive/MyDrive/phoenix_analytics/Copy of dataset.csv')\n",
        "df.head(2)"
      ],
      "metadata": {
        "colab": {
          "base_uri": "https://localhost:8080/",
          "height": 271
        },
        "id": "6gDkD9bnCsVP",
        "outputId": "bcc6dabc-fde6-4229-b2a5-a6901d4038c2"
      },
      "execution_count": null,
      "outputs": [
        {
          "output_type": "execute_result",
          "data": {
            "text/plain": [
              "                               order_id customer_number transaction_date  \\\n",
              "0  04aeddd4-d9b3-4cca-ab3b-072ca177a3e1       ID_172101       28/03/2022   \n",
              "1  04aeddd4-d9b3-4cca-ab3b-072ca177a3e1       ID_172101       28/03/2022   \n",
              "\n",
              "                                         description  total_qty  net_total  \\\n",
              "0  Steam Energy Energy Drink 400ML CARTON (1.0 Item)          6    2231.57   \n",
              "1              Sumo Candles 8PC CARTON (12.0 Outers)          6    2231.57   \n",
              "\n",
              "   loyalty_amount  loyalty_points  discount_amount customer_group territory  \\\n",
              "0               0               0            66.38     Individual      Meru   \n",
              "1               0               0            66.38     Individual      Meru   \n",
              "\n",
              "  delivery_date delivery_window_end_time delivery_window_start_time  \\\n",
              "0    29/03/2022                 19:00:00                   13:00:00   \n",
              "1    29/03/2022                 19:00:00                   13:00:00   \n",
              "\n",
              "      set_warehouse  duka_latitude  duka_longitude  \n",
              "0  Meru Main - KDKE       0.036784       37.654155  \n",
              "1  Meru Main - KDKE       0.036784       37.654155  "
            ],
            "text/html": [
              "\n",
              "  <div id=\"df-24fc1b2f-bf9d-4006-a0c2-22106daa8026\" class=\"colab-df-container\">\n",
              "    <div>\n",
              "<style scoped>\n",
              "    .dataframe tbody tr th:only-of-type {\n",
              "        vertical-align: middle;\n",
              "    }\n",
              "\n",
              "    .dataframe tbody tr th {\n",
              "        vertical-align: top;\n",
              "    }\n",
              "\n",
              "    .dataframe thead th {\n",
              "        text-align: right;\n",
              "    }\n",
              "</style>\n",
              "<table border=\"1\" class=\"dataframe\">\n",
              "  <thead>\n",
              "    <tr style=\"text-align: right;\">\n",
              "      <th></th>\n",
              "      <th>order_id</th>\n",
              "      <th>customer_number</th>\n",
              "      <th>transaction_date</th>\n",
              "      <th>description</th>\n",
              "      <th>total_qty</th>\n",
              "      <th>net_total</th>\n",
              "      <th>loyalty_amount</th>\n",
              "      <th>loyalty_points</th>\n",
              "      <th>discount_amount</th>\n",
              "      <th>customer_group</th>\n",
              "      <th>territory</th>\n",
              "      <th>delivery_date</th>\n",
              "      <th>delivery_window_end_time</th>\n",
              "      <th>delivery_window_start_time</th>\n",
              "      <th>set_warehouse</th>\n",
              "      <th>duka_latitude</th>\n",
              "      <th>duka_longitude</th>\n",
              "    </tr>\n",
              "  </thead>\n",
              "  <tbody>\n",
              "    <tr>\n",
              "      <th>0</th>\n",
              "      <td>04aeddd4-d9b3-4cca-ab3b-072ca177a3e1</td>\n",
              "      <td>ID_172101</td>\n",
              "      <td>28/03/2022</td>\n",
              "      <td>Steam Energy Energy Drink 400ML CARTON (1.0 Item)</td>\n",
              "      <td>6</td>\n",
              "      <td>2231.57</td>\n",
              "      <td>0</td>\n",
              "      <td>0</td>\n",
              "      <td>66.38</td>\n",
              "      <td>Individual</td>\n",
              "      <td>Meru</td>\n",
              "      <td>29/03/2022</td>\n",
              "      <td>19:00:00</td>\n",
              "      <td>13:00:00</td>\n",
              "      <td>Meru Main - KDKE</td>\n",
              "      <td>0.036784</td>\n",
              "      <td>37.654155</td>\n",
              "    </tr>\n",
              "    <tr>\n",
              "      <th>1</th>\n",
              "      <td>04aeddd4-d9b3-4cca-ab3b-072ca177a3e1</td>\n",
              "      <td>ID_172101</td>\n",
              "      <td>28/03/2022</td>\n",
              "      <td>Sumo Candles 8PC CARTON (12.0 Outers)</td>\n",
              "      <td>6</td>\n",
              "      <td>2231.57</td>\n",
              "      <td>0</td>\n",
              "      <td>0</td>\n",
              "      <td>66.38</td>\n",
              "      <td>Individual</td>\n",
              "      <td>Meru</td>\n",
              "      <td>29/03/2022</td>\n",
              "      <td>19:00:00</td>\n",
              "      <td>13:00:00</td>\n",
              "      <td>Meru Main - KDKE</td>\n",
              "      <td>0.036784</td>\n",
              "      <td>37.654155</td>\n",
              "    </tr>\n",
              "  </tbody>\n",
              "</table>\n",
              "</div>\n",
              "    <div class=\"colab-df-buttons\">\n",
              "\n",
              "  <div class=\"colab-df-container\">\n",
              "    <button class=\"colab-df-convert\" onclick=\"convertToInteractive('df-24fc1b2f-bf9d-4006-a0c2-22106daa8026')\"\n",
              "            title=\"Convert this dataframe to an interactive table.\"\n",
              "            style=\"display:none;\">\n",
              "\n",
              "  <svg xmlns=\"http://www.w3.org/2000/svg\" height=\"24px\" viewBox=\"0 -960 960 960\">\n",
              "    <path d=\"M120-120v-720h720v720H120Zm60-500h600v-160H180v160Zm220 220h160v-160H400v160Zm0 220h160v-160H400v160ZM180-400h160v-160H180v160Zm440 0h160v-160H620v160ZM180-180h160v-160H180v160Zm440 0h160v-160H620v160Z\"/>\n",
              "  </svg>\n",
              "    </button>\n",
              "\n",
              "  <style>\n",
              "    .colab-df-container {\n",
              "      display:flex;\n",
              "      gap: 12px;\n",
              "    }\n",
              "\n",
              "    .colab-df-convert {\n",
              "      background-color: #E8F0FE;\n",
              "      border: none;\n",
              "      border-radius: 50%;\n",
              "      cursor: pointer;\n",
              "      display: none;\n",
              "      fill: #1967D2;\n",
              "      height: 32px;\n",
              "      padding: 0 0 0 0;\n",
              "      width: 32px;\n",
              "    }\n",
              "\n",
              "    .colab-df-convert:hover {\n",
              "      background-color: #E2EBFA;\n",
              "      box-shadow: 0px 1px 2px rgba(60, 64, 67, 0.3), 0px 1px 3px 1px rgba(60, 64, 67, 0.15);\n",
              "      fill: #174EA6;\n",
              "    }\n",
              "\n",
              "    .colab-df-buttons div {\n",
              "      margin-bottom: 4px;\n",
              "    }\n",
              "\n",
              "    [theme=dark] .colab-df-convert {\n",
              "      background-color: #3B4455;\n",
              "      fill: #D2E3FC;\n",
              "    }\n",
              "\n",
              "    [theme=dark] .colab-df-convert:hover {\n",
              "      background-color: #434B5C;\n",
              "      box-shadow: 0px 1px 3px 1px rgba(0, 0, 0, 0.15);\n",
              "      filter: drop-shadow(0px 1px 2px rgba(0, 0, 0, 0.3));\n",
              "      fill: #FFFFFF;\n",
              "    }\n",
              "  </style>\n",
              "\n",
              "    <script>\n",
              "      const buttonEl =\n",
              "        document.querySelector('#df-24fc1b2f-bf9d-4006-a0c2-22106daa8026 button.colab-df-convert');\n",
              "      buttonEl.style.display =\n",
              "        google.colab.kernel.accessAllowed ? 'block' : 'none';\n",
              "\n",
              "      async function convertToInteractive(key) {\n",
              "        const element = document.querySelector('#df-24fc1b2f-bf9d-4006-a0c2-22106daa8026');\n",
              "        const dataTable =\n",
              "          await google.colab.kernel.invokeFunction('convertToInteractive',\n",
              "                                                    [key], {});\n",
              "        if (!dataTable) return;\n",
              "\n",
              "        const docLinkHtml = 'Like what you see? Visit the ' +\n",
              "          '<a target=\"_blank\" href=https://colab.research.google.com/notebooks/data_table.ipynb>data table notebook</a>'\n",
              "          + ' to learn more about interactive tables.';\n",
              "        element.innerHTML = '';\n",
              "        dataTable['output_type'] = 'display_data';\n",
              "        await google.colab.output.renderOutput(dataTable, element);\n",
              "        const docLink = document.createElement('div');\n",
              "        docLink.innerHTML = docLinkHtml;\n",
              "        element.appendChild(docLink);\n",
              "      }\n",
              "    </script>\n",
              "  </div>\n",
              "\n",
              "\n",
              "<div id=\"df-c26f8fb9-7ca4-4381-9a68-21f3e783693a\">\n",
              "  <button class=\"colab-df-quickchart\" onclick=\"quickchart('df-c26f8fb9-7ca4-4381-9a68-21f3e783693a')\"\n",
              "            title=\"Suggest charts\"\n",
              "            style=\"display:none;\">\n",
              "\n",
              "<svg xmlns=\"http://www.w3.org/2000/svg\" height=\"24px\"viewBox=\"0 0 24 24\"\n",
              "     width=\"24px\">\n",
              "    <g>\n",
              "        <path d=\"M19 3H5c-1.1 0-2 .9-2 2v14c0 1.1.9 2 2 2h14c1.1 0 2-.9 2-2V5c0-1.1-.9-2-2-2zM9 17H7v-7h2v7zm4 0h-2V7h2v10zm4 0h-2v-4h2v4z\"/>\n",
              "    </g>\n",
              "</svg>\n",
              "  </button>\n",
              "\n",
              "<style>\n",
              "  .colab-df-quickchart {\n",
              "      --bg-color: #E8F0FE;\n",
              "      --fill-color: #1967D2;\n",
              "      --hover-bg-color: #E2EBFA;\n",
              "      --hover-fill-color: #174EA6;\n",
              "      --disabled-fill-color: #AAA;\n",
              "      --disabled-bg-color: #DDD;\n",
              "  }\n",
              "\n",
              "  [theme=dark] .colab-df-quickchart {\n",
              "      --bg-color: #3B4455;\n",
              "      --fill-color: #D2E3FC;\n",
              "      --hover-bg-color: #434B5C;\n",
              "      --hover-fill-color: #FFFFFF;\n",
              "      --disabled-bg-color: #3B4455;\n",
              "      --disabled-fill-color: #666;\n",
              "  }\n",
              "\n",
              "  .colab-df-quickchart {\n",
              "    background-color: var(--bg-color);\n",
              "    border: none;\n",
              "    border-radius: 50%;\n",
              "    cursor: pointer;\n",
              "    display: none;\n",
              "    fill: var(--fill-color);\n",
              "    height: 32px;\n",
              "    padding: 0;\n",
              "    width: 32px;\n",
              "  }\n",
              "\n",
              "  .colab-df-quickchart:hover {\n",
              "    background-color: var(--hover-bg-color);\n",
              "    box-shadow: 0 1px 2px rgba(60, 64, 67, 0.3), 0 1px 3px 1px rgba(60, 64, 67, 0.15);\n",
              "    fill: var(--button-hover-fill-color);\n",
              "  }\n",
              "\n",
              "  .colab-df-quickchart-complete:disabled,\n",
              "  .colab-df-quickchart-complete:disabled:hover {\n",
              "    background-color: var(--disabled-bg-color);\n",
              "    fill: var(--disabled-fill-color);\n",
              "    box-shadow: none;\n",
              "  }\n",
              "\n",
              "  .colab-df-spinner {\n",
              "    border: 2px solid var(--fill-color);\n",
              "    border-color: transparent;\n",
              "    border-bottom-color: var(--fill-color);\n",
              "    animation:\n",
              "      spin 1s steps(1) infinite;\n",
              "  }\n",
              "\n",
              "  @keyframes spin {\n",
              "    0% {\n",
              "      border-color: transparent;\n",
              "      border-bottom-color: var(--fill-color);\n",
              "      border-left-color: var(--fill-color);\n",
              "    }\n",
              "    20% {\n",
              "      border-color: transparent;\n",
              "      border-left-color: var(--fill-color);\n",
              "      border-top-color: var(--fill-color);\n",
              "    }\n",
              "    30% {\n",
              "      border-color: transparent;\n",
              "      border-left-color: var(--fill-color);\n",
              "      border-top-color: var(--fill-color);\n",
              "      border-right-color: var(--fill-color);\n",
              "    }\n",
              "    40% {\n",
              "      border-color: transparent;\n",
              "      border-right-color: var(--fill-color);\n",
              "      border-top-color: var(--fill-color);\n",
              "    }\n",
              "    60% {\n",
              "      border-color: transparent;\n",
              "      border-right-color: var(--fill-color);\n",
              "    }\n",
              "    80% {\n",
              "      border-color: transparent;\n",
              "      border-right-color: var(--fill-color);\n",
              "      border-bottom-color: var(--fill-color);\n",
              "    }\n",
              "    90% {\n",
              "      border-color: transparent;\n",
              "      border-bottom-color: var(--fill-color);\n",
              "    }\n",
              "  }\n",
              "</style>\n",
              "\n",
              "  <script>\n",
              "    async function quickchart(key) {\n",
              "      const quickchartButtonEl =\n",
              "        document.querySelector('#' + key + ' button');\n",
              "      quickchartButtonEl.disabled = true;  // To prevent multiple clicks.\n",
              "      quickchartButtonEl.classList.add('colab-df-spinner');\n",
              "      try {\n",
              "        const charts = await google.colab.kernel.invokeFunction(\n",
              "            'suggestCharts', [key], {});\n",
              "      } catch (error) {\n",
              "        console.error('Error during call to suggestCharts:', error);\n",
              "      }\n",
              "      quickchartButtonEl.classList.remove('colab-df-spinner');\n",
              "      quickchartButtonEl.classList.add('colab-df-quickchart-complete');\n",
              "    }\n",
              "    (() => {\n",
              "      let quickchartButtonEl =\n",
              "        document.querySelector('#df-c26f8fb9-7ca4-4381-9a68-21f3e783693a button');\n",
              "      quickchartButtonEl.style.display =\n",
              "        google.colab.kernel.accessAllowed ? 'block' : 'none';\n",
              "    })();\n",
              "  </script>\n",
              "</div>\n",
              "\n",
              "    </div>\n",
              "  </div>\n"
            ],
            "application/vnd.google.colaboratory.intrinsic+json": {
              "type": "dataframe",
              "variable_name": "df",
              "summary": "{\n  \"name\": \"df\",\n  \"rows\": 43718,\n  \"fields\": [\n    {\n      \"column\": \"order_id\",\n      \"properties\": {\n        \"dtype\": \"category\",\n        \"num_unique_values\": 20607,\n        \"samples\": [\n          \"c1ccdd97-5f96-4545-a0c4-0107a35a4ce4\",\n          \"ef5851b5-9d1c-4628-b48f-c90f7eee9984\",\n          \"53b79a2d-8343-4f03-bcb2-4a50d107b836\"\n        ],\n        \"semantic_type\": \"\",\n        \"description\": \"\"\n      }\n    },\n    {\n      \"column\": \"customer_number\",\n      \"properties\": {\n        \"dtype\": \"category\",\n        \"num_unique_values\": 3397,\n        \"samples\": [\n          \"ID_123808\",\n          \"ID_180594\",\n          \"ID_114760\"\n        ],\n        \"semantic_type\": \"\",\n        \"description\": \"\"\n      }\n    },\n    {\n      \"column\": \"transaction_date\",\n      \"properties\": {\n        \"dtype\": \"object\",\n        \"num_unique_values\": 51,\n        \"samples\": [\n          \"05/03/2022\",\n          \"23/02/2022\",\n          \"11/02/2022\"\n        ],\n        \"semantic_type\": \"\",\n        \"description\": \"\"\n      }\n    },\n    {\n      \"column\": \"description\",\n      \"properties\": {\n        \"dtype\": \"category\",\n        \"num_unique_values\": 487,\n        \"samples\": [\n          \"Sunsalt Salt 2KG BALE (10.0 PC)\",\n          \"Softcare Pocket Wipes 80 PC CARTON (1.0 CTN)\",\n          \"Elliots Wheat Flour Atta Mark 1 2KG BALE (12.0 PC)\"\n        ],\n        \"semantic_type\": \"\",\n        \"description\": \"\"\n      }\n    },\n    {\n      \"column\": \"total_qty\",\n      \"properties\": {\n        \"dtype\": \"number\",\n        \"std\": 13,\n        \"min\": 1,\n        \"max\": 500,\n        \"num_unique_values\": 88,\n        \"samples\": [\n          43,\n          6,\n          11\n        ],\n        \"semantic_type\": \"\",\n        \"description\": \"\"\n      }\n    },\n    {\n      \"column\": \"net_total\",\n      \"properties\": {\n        \"dtype\": \"number\",\n        \"std\": 30233.640020371346,\n        \"min\": 181.03,\n        \"max\": 1379599.14,\n        \"num_unique_values\": 10784,\n        \"samples\": [\n          2074.57,\n          3022.57,\n          13788.65\n        ],\n        \"semantic_type\": \"\",\n        \"description\": \"\"\n      }\n    },\n    {\n      \"column\": \"loyalty_amount\",\n      \"properties\": {\n        \"dtype\": \"number\",\n        \"std\": 0,\n        \"min\": 0,\n        \"max\": 0,\n        \"num_unique_values\": 1,\n        \"samples\": [\n          0\n        ],\n        \"semantic_type\": \"\",\n        \"description\": \"\"\n      }\n    },\n    {\n      \"column\": \"loyalty_points\",\n      \"properties\": {\n        \"dtype\": \"number\",\n        \"std\": 0,\n        \"min\": 0,\n        \"max\": 0,\n        \"num_unique_values\": 1,\n        \"samples\": [\n          0\n        ],\n        \"semantic_type\": \"\",\n        \"description\": \"\"\n      }\n    },\n    {\n      \"column\": \"discount_amount\",\n      \"properties\": {\n        \"dtype\": \"number\",\n        \"std\": 496.64678624942354,\n        \"min\": 0.0,\n        \"max\": 20231.25,\n        \"num_unique_values\": 6446,\n        \"samples\": [\n          30.03\n        ],\n        \"semantic_type\": \"\",\n        \"description\": \"\"\n      }\n    },\n    {\n      \"column\": \"customer_group\",\n      \"properties\": {\n        \"dtype\": \"category\",\n        \"num_unique_values\": 2,\n        \"samples\": [\n          \"All Customer Groups\"\n        ],\n        \"semantic_type\": \"\",\n        \"description\": \"\"\n      }\n    },\n    {\n      \"column\": \"territory\",\n      \"properties\": {\n        \"dtype\": \"category\",\n        \"num_unique_values\": 19,\n        \"samples\": [\n          \"Meru\"\n        ],\n        \"semantic_type\": \"\",\n        \"description\": \"\"\n      }\n    },\n    {\n      \"column\": \"delivery_date\",\n      \"properties\": {\n        \"dtype\": \"object\",\n        \"num_unique_values\": 44,\n        \"samples\": [\n          \"15/02/2022\"\n        ],\n        \"semantic_type\": \"\",\n        \"description\": \"\"\n      }\n    },\n    {\n      \"column\": \"delivery_window_end_time\",\n      \"properties\": {\n        \"dtype\": \"object\",\n        \"num_unique_values\": 7,\n        \"samples\": [\n          \"19:00:00\"\n        ],\n        \"semantic_type\": \"\",\n        \"description\": \"\"\n      }\n    },\n    {\n      \"column\": \"delivery_window_start_time\",\n      \"properties\": {\n        \"dtype\": \"object\",\n        \"num_unique_values\": 5,\n        \"samples\": [\n          \"08:00:00\"\n        ],\n        \"semantic_type\": \"\",\n        \"description\": \"\"\n      }\n    },\n    {\n      \"column\": \"set_warehouse\",\n      \"properties\": {\n        \"dtype\": \"category\",\n        \"num_unique_values\": 19,\n        \"samples\": [\n          \"Meru Main - KDKE\"\n        ],\n        \"semantic_type\": \"\",\n        \"description\": \"\"\n      }\n    },\n    {\n      \"column\": \"duka_latitude\",\n      \"properties\": {\n        \"dtype\": \"number\",\n        \"std\": 1.066349600274855,\n        \"min\": -4.2898334,\n        \"max\": 0.8851695,\n        \"num_unique_values\": 3343,\n        \"samples\": [\n          -0.4721181\n        ],\n        \"semantic_type\": \"\",\n        \"description\": \"\"\n      }\n    },\n    {\n      \"column\": \"duka_longitude\",\n      \"properties\": {\n        \"dtype\": \"number\",\n        \"std\": 1.1305347666149452,\n        \"min\": 34.4557512,\n        \"max\": 40.1218961,\n        \"num_unique_values\": 3258,\n        \"samples\": [\n          36.6594823\n        ],\n        \"semantic_type\": \"\",\n        \"description\": \"\"\n      }\n    }\n  ]\n}"
            }
          },
          "metadata": {},
          "execution_count": 21
        }
      ]
    },
    {
      "cell_type": "code",
      "source": [
        "df.shape"
      ],
      "metadata": {
        "colab": {
          "base_uri": "https://localhost:8080/"
        },
        "id": "kWeNYgMmCsil",
        "outputId": "3e4e48ae-878e-4bd3-e8ef-6010b5eb3fd9"
      },
      "execution_count": null,
      "outputs": [
        {
          "output_type": "execute_result",
          "data": {
            "text/plain": [
              "(43718, 17)"
            ]
          },
          "metadata": {},
          "execution_count": 22
        }
      ]
    },
    {
      "cell_type": "code",
      "source": [
        "df.dtypes"
      ],
      "metadata": {
        "colab": {
          "base_uri": "https://localhost:8080/",
          "height": 617
        },
        "id": "nWIVXshuCsnw",
        "outputId": "23c636d1-bce9-4541-cd7b-75d60ff7ceb4"
      },
      "execution_count": null,
      "outputs": [
        {
          "output_type": "execute_result",
          "data": {
            "text/plain": [
              "order_id                       object\n",
              "customer_number                object\n",
              "transaction_date               object\n",
              "description                    object\n",
              "total_qty                       int64\n",
              "net_total                     float64\n",
              "loyalty_amount                  int64\n",
              "loyalty_points                  int64\n",
              "discount_amount               float64\n",
              "customer_group                 object\n",
              "territory                      object\n",
              "delivery_date                  object\n",
              "delivery_window_end_time       object\n",
              "delivery_window_start_time     object\n",
              "set_warehouse                  object\n",
              "duka_latitude                 float64\n",
              "duka_longitude                float64\n",
              "dtype: object"
            ],
            "text/html": [
              "<div>\n",
              "<style scoped>\n",
              "    .dataframe tbody tr th:only-of-type {\n",
              "        vertical-align: middle;\n",
              "    }\n",
              "\n",
              "    .dataframe tbody tr th {\n",
              "        vertical-align: top;\n",
              "    }\n",
              "\n",
              "    .dataframe thead th {\n",
              "        text-align: right;\n",
              "    }\n",
              "</style>\n",
              "<table border=\"1\" class=\"dataframe\">\n",
              "  <thead>\n",
              "    <tr style=\"text-align: right;\">\n",
              "      <th></th>\n",
              "      <th>0</th>\n",
              "    </tr>\n",
              "  </thead>\n",
              "  <tbody>\n",
              "    <tr>\n",
              "      <th>order_id</th>\n",
              "      <td>object</td>\n",
              "    </tr>\n",
              "    <tr>\n",
              "      <th>customer_number</th>\n",
              "      <td>object</td>\n",
              "    </tr>\n",
              "    <tr>\n",
              "      <th>transaction_date</th>\n",
              "      <td>object</td>\n",
              "    </tr>\n",
              "    <tr>\n",
              "      <th>description</th>\n",
              "      <td>object</td>\n",
              "    </tr>\n",
              "    <tr>\n",
              "      <th>total_qty</th>\n",
              "      <td>int64</td>\n",
              "    </tr>\n",
              "    <tr>\n",
              "      <th>net_total</th>\n",
              "      <td>float64</td>\n",
              "    </tr>\n",
              "    <tr>\n",
              "      <th>loyalty_amount</th>\n",
              "      <td>int64</td>\n",
              "    </tr>\n",
              "    <tr>\n",
              "      <th>loyalty_points</th>\n",
              "      <td>int64</td>\n",
              "    </tr>\n",
              "    <tr>\n",
              "      <th>discount_amount</th>\n",
              "      <td>float64</td>\n",
              "    </tr>\n",
              "    <tr>\n",
              "      <th>customer_group</th>\n",
              "      <td>object</td>\n",
              "    </tr>\n",
              "    <tr>\n",
              "      <th>territory</th>\n",
              "      <td>object</td>\n",
              "    </tr>\n",
              "    <tr>\n",
              "      <th>delivery_date</th>\n",
              "      <td>object</td>\n",
              "    </tr>\n",
              "    <tr>\n",
              "      <th>delivery_window_end_time</th>\n",
              "      <td>object</td>\n",
              "    </tr>\n",
              "    <tr>\n",
              "      <th>delivery_window_start_time</th>\n",
              "      <td>object</td>\n",
              "    </tr>\n",
              "    <tr>\n",
              "      <th>set_warehouse</th>\n",
              "      <td>object</td>\n",
              "    </tr>\n",
              "    <tr>\n",
              "      <th>duka_latitude</th>\n",
              "      <td>float64</td>\n",
              "    </tr>\n",
              "    <tr>\n",
              "      <th>duka_longitude</th>\n",
              "      <td>float64</td>\n",
              "    </tr>\n",
              "  </tbody>\n",
              "</table>\n",
              "</div><br><label><b>dtype:</b> object</label>"
            ]
          },
          "metadata": {},
          "execution_count": 23
        }
      ]
    },
    {
      "cell_type": "markdown",
      "source": [
        "#Data Cleaning Steps\n",
        "\n",
        "• Converted \"Date\" columns (transaction_date, delivery_date) to appropriate data types\n",
        "\n",
        "• Identified and removed 10 duplicate records\n",
        "\n",
        "• Assessed missing data (no missing values found)"
      ],
      "metadata": {
        "id": "nPokdW51HFPs"
      }
    },
    {
      "cell_type": "code",
      "source": [
        "#Convert date columns from object to datetime\n",
        "df['transaction_date'] = pd.to_datetime(df['transaction_date'], format='%d/%m/%Y')\n",
        "df['delivery_date'] = pd.to_datetime(df['delivery_date'], format='%d/%m/%Y')\n"
      ],
      "metadata": {
        "id": "TUWK7F6xCssg"
      },
      "execution_count": null,
      "outputs": []
    },
    {
      "cell_type": "code",
      "source": [
        "df.duplicated().sum()"
      ],
      "metadata": {
        "colab": {
          "base_uri": "https://localhost:8080/"
        },
        "id": "Z02mqfkBT3VC",
        "outputId": "f675f60c-8043-4ea5-cfa0-6ec550a26540"
      },
      "execution_count": null,
      "outputs": [
        {
          "output_type": "execute_result",
          "data": {
            "text/plain": [
              "10"
            ]
          },
          "metadata": {},
          "execution_count": 25
        }
      ]
    },
    {
      "cell_type": "code",
      "source": [
        "#Remove duplicates\n",
        "df.drop_duplicates(inplace=True)"
      ],
      "metadata": {
        "id": "FIzXLqTIT8QG"
      },
      "execution_count": null,
      "outputs": []
    },
    {
      "cell_type": "code",
      "source": [
        "df.info()"
      ],
      "metadata": {
        "colab": {
          "base_uri": "https://localhost:8080/"
        },
        "id": "vDEEvpedp20I",
        "outputId": "621da0f1-73e6-463f-e39d-9ff321ce856c"
      },
      "execution_count": null,
      "outputs": [
        {
          "output_type": "stream",
          "name": "stdout",
          "text": [
            "<class 'pandas.core.frame.DataFrame'>\n",
            "Index: 43708 entries, 0 to 43717\n",
            "Data columns (total 17 columns):\n",
            " #   Column                      Non-Null Count  Dtype         \n",
            "---  ------                      --------------  -----         \n",
            " 0   order_id                    43708 non-null  object        \n",
            " 1   customer_number             43708 non-null  object        \n",
            " 2   transaction_date            43708 non-null  datetime64[ns]\n",
            " 3   description                 43708 non-null  object        \n",
            " 4   total_qty                   43708 non-null  int64         \n",
            " 5   net_total                   43708 non-null  float64       \n",
            " 6   loyalty_amount              43708 non-null  int64         \n",
            " 7   loyalty_points              43708 non-null  int64         \n",
            " 8   discount_amount             43708 non-null  float64       \n",
            " 9   customer_group              43708 non-null  object        \n",
            " 10  territory                   43708 non-null  object        \n",
            " 11  delivery_date               43708 non-null  datetime64[ns]\n",
            " 12  delivery_window_end_time    43708 non-null  object        \n",
            " 13  delivery_window_start_time  43708 non-null  object        \n",
            " 14  set_warehouse               43708 non-null  object        \n",
            " 15  duka_latitude               43708 non-null  float64       \n",
            " 16  duka_longitude              43708 non-null  float64       \n",
            "dtypes: datetime64[ns](2), float64(4), int64(3), object(8)\n",
            "memory usage: 6.0+ MB\n"
          ]
        }
      ]
    },
    {
      "cell_type": "code",
      "source": [
        "df['customer_number'].nunique()"
      ],
      "metadata": {
        "colab": {
          "base_uri": "https://localhost:8080/"
        },
        "id": "CzeVTAFoq-Ux",
        "outputId": "edb3b354-4052-4b5e-c5cc-18acdac706f3"
      },
      "execution_count": null,
      "outputs": [
        {
          "output_type": "execute_result",
          "data": {
            "text/plain": [
              "3397"
            ]
          },
          "metadata": {},
          "execution_count": 28
        }
      ]
    },
    {
      "cell_type": "markdown",
      "source": [
        "# Defining Churn\n",
        "• Defined churn as a customer having no orders in the last 30 days\n",
        "\n",
        "• Identified last transaction date for each customer\n",
        "\n",
        "• Determined the latest date in the dataset\n",
        "\n",
        "• Set churn threshold (30 days before the latest date)\n",
        "\n",
        "• Created a new ’churn’ column (1 for churned, 0 for active)"
      ],
      "metadata": {
        "id": "zrYEXK4wWwme"
      }
    },
    {
      "cell_type": "code",
      "source": [
        "#last day of purchase in the data\n",
        "last_transaction = df['transaction_date'].max()\n",
        "\n",
        "# Calculate each customer's last purchase date\n",
        "df['last_purchase'] = df.groupby('customer_number')['transaction_date'].transform('max')\n",
        "\n",
        "# Calculate the difference between the last transaction date and each customer's last purchase date\n",
        "df['days_since_last_purchase'] = (last_transaction - df['last_purchase']).dt.days\n",
        "\n",
        "# drop 'last_purchase' column\n",
        "df.drop('last_purchase', axis=1, inplace=True)\n",
        "\n",
        "# Create churn column\n",
        "df['churn'] = ((df['days_since_last_purchase'] > 30)).astype(int)\n",
        "\n",
        "df.head(2)\n"
      ],
      "metadata": {
        "colab": {
          "base_uri": "https://localhost:8080/",
          "height": 271
        },
        "id": "rruVrwNYWpmi",
        "outputId": "d111cc6f-ae9e-437b-da9d-46e9444954a1"
      },
      "execution_count": null,
      "outputs": [
        {
          "output_type": "execute_result",
          "data": {
            "text/plain": [
              "                               order_id customer_number transaction_date  \\\n",
              "0  04aeddd4-d9b3-4cca-ab3b-072ca177a3e1       ID_172101       2022-03-28   \n",
              "1  04aeddd4-d9b3-4cca-ab3b-072ca177a3e1       ID_172101       2022-03-28   \n",
              "\n",
              "                                         description  total_qty  net_total  \\\n",
              "0  Steam Energy Energy Drink 400ML CARTON (1.0 Item)          6    2231.57   \n",
              "1              Sumo Candles 8PC CARTON (12.0 Outers)          6    2231.57   \n",
              "\n",
              "   loyalty_amount  loyalty_points  discount_amount customer_group territory  \\\n",
              "0               0               0            66.38     Individual      Meru   \n",
              "1               0               0            66.38     Individual      Meru   \n",
              "\n",
              "  delivery_date delivery_window_end_time delivery_window_start_time  \\\n",
              "0    2022-03-29                 19:00:00                   13:00:00   \n",
              "1    2022-03-29                 19:00:00                   13:00:00   \n",
              "\n",
              "      set_warehouse  duka_latitude  duka_longitude  days_since_last_purchase  \\\n",
              "0  Meru Main - KDKE       0.036784       37.654155                         3   \n",
              "1  Meru Main - KDKE       0.036784       37.654155                         3   \n",
              "\n",
              "   churn  \n",
              "0      0  \n",
              "1      0  "
            ],
            "text/html": [
              "\n",
              "  <div id=\"df-d4016dc7-564d-4eab-bc96-90e595953b2b\" class=\"colab-df-container\">\n",
              "    <div>\n",
              "<style scoped>\n",
              "    .dataframe tbody tr th:only-of-type {\n",
              "        vertical-align: middle;\n",
              "    }\n",
              "\n",
              "    .dataframe tbody tr th {\n",
              "        vertical-align: top;\n",
              "    }\n",
              "\n",
              "    .dataframe thead th {\n",
              "        text-align: right;\n",
              "    }\n",
              "</style>\n",
              "<table border=\"1\" class=\"dataframe\">\n",
              "  <thead>\n",
              "    <tr style=\"text-align: right;\">\n",
              "      <th></th>\n",
              "      <th>order_id</th>\n",
              "      <th>customer_number</th>\n",
              "      <th>transaction_date</th>\n",
              "      <th>description</th>\n",
              "      <th>total_qty</th>\n",
              "      <th>net_total</th>\n",
              "      <th>loyalty_amount</th>\n",
              "      <th>loyalty_points</th>\n",
              "      <th>discount_amount</th>\n",
              "      <th>customer_group</th>\n",
              "      <th>territory</th>\n",
              "      <th>delivery_date</th>\n",
              "      <th>delivery_window_end_time</th>\n",
              "      <th>delivery_window_start_time</th>\n",
              "      <th>set_warehouse</th>\n",
              "      <th>duka_latitude</th>\n",
              "      <th>duka_longitude</th>\n",
              "      <th>days_since_last_purchase</th>\n",
              "      <th>churn</th>\n",
              "    </tr>\n",
              "  </thead>\n",
              "  <tbody>\n",
              "    <tr>\n",
              "      <th>0</th>\n",
              "      <td>04aeddd4-d9b3-4cca-ab3b-072ca177a3e1</td>\n",
              "      <td>ID_172101</td>\n",
              "      <td>2022-03-28</td>\n",
              "      <td>Steam Energy Energy Drink 400ML CARTON (1.0 Item)</td>\n",
              "      <td>6</td>\n",
              "      <td>2231.57</td>\n",
              "      <td>0</td>\n",
              "      <td>0</td>\n",
              "      <td>66.38</td>\n",
              "      <td>Individual</td>\n",
              "      <td>Meru</td>\n",
              "      <td>2022-03-29</td>\n",
              "      <td>19:00:00</td>\n",
              "      <td>13:00:00</td>\n",
              "      <td>Meru Main - KDKE</td>\n",
              "      <td>0.036784</td>\n",
              "      <td>37.654155</td>\n",
              "      <td>3</td>\n",
              "      <td>0</td>\n",
              "    </tr>\n",
              "    <tr>\n",
              "      <th>1</th>\n",
              "      <td>04aeddd4-d9b3-4cca-ab3b-072ca177a3e1</td>\n",
              "      <td>ID_172101</td>\n",
              "      <td>2022-03-28</td>\n",
              "      <td>Sumo Candles 8PC CARTON (12.0 Outers)</td>\n",
              "      <td>6</td>\n",
              "      <td>2231.57</td>\n",
              "      <td>0</td>\n",
              "      <td>0</td>\n",
              "      <td>66.38</td>\n",
              "      <td>Individual</td>\n",
              "      <td>Meru</td>\n",
              "      <td>2022-03-29</td>\n",
              "      <td>19:00:00</td>\n",
              "      <td>13:00:00</td>\n",
              "      <td>Meru Main - KDKE</td>\n",
              "      <td>0.036784</td>\n",
              "      <td>37.654155</td>\n",
              "      <td>3</td>\n",
              "      <td>0</td>\n",
              "    </tr>\n",
              "  </tbody>\n",
              "</table>\n",
              "</div>\n",
              "    <div class=\"colab-df-buttons\">\n",
              "\n",
              "  <div class=\"colab-df-container\">\n",
              "    <button class=\"colab-df-convert\" onclick=\"convertToInteractive('df-d4016dc7-564d-4eab-bc96-90e595953b2b')\"\n",
              "            title=\"Convert this dataframe to an interactive table.\"\n",
              "            style=\"display:none;\">\n",
              "\n",
              "  <svg xmlns=\"http://www.w3.org/2000/svg\" height=\"24px\" viewBox=\"0 -960 960 960\">\n",
              "    <path d=\"M120-120v-720h720v720H120Zm60-500h600v-160H180v160Zm220 220h160v-160H400v160Zm0 220h160v-160H400v160ZM180-400h160v-160H180v160Zm440 0h160v-160H620v160ZM180-180h160v-160H180v160Zm440 0h160v-160H620v160Z\"/>\n",
              "  </svg>\n",
              "    </button>\n",
              "\n",
              "  <style>\n",
              "    .colab-df-container {\n",
              "      display:flex;\n",
              "      gap: 12px;\n",
              "    }\n",
              "\n",
              "    .colab-df-convert {\n",
              "      background-color: #E8F0FE;\n",
              "      border: none;\n",
              "      border-radius: 50%;\n",
              "      cursor: pointer;\n",
              "      display: none;\n",
              "      fill: #1967D2;\n",
              "      height: 32px;\n",
              "      padding: 0 0 0 0;\n",
              "      width: 32px;\n",
              "    }\n",
              "\n",
              "    .colab-df-convert:hover {\n",
              "      background-color: #E2EBFA;\n",
              "      box-shadow: 0px 1px 2px rgba(60, 64, 67, 0.3), 0px 1px 3px 1px rgba(60, 64, 67, 0.15);\n",
              "      fill: #174EA6;\n",
              "    }\n",
              "\n",
              "    .colab-df-buttons div {\n",
              "      margin-bottom: 4px;\n",
              "    }\n",
              "\n",
              "    [theme=dark] .colab-df-convert {\n",
              "      background-color: #3B4455;\n",
              "      fill: #D2E3FC;\n",
              "    }\n",
              "\n",
              "    [theme=dark] .colab-df-convert:hover {\n",
              "      background-color: #434B5C;\n",
              "      box-shadow: 0px 1px 3px 1px rgba(0, 0, 0, 0.15);\n",
              "      filter: drop-shadow(0px 1px 2px rgba(0, 0, 0, 0.3));\n",
              "      fill: #FFFFFF;\n",
              "    }\n",
              "  </style>\n",
              "\n",
              "    <script>\n",
              "      const buttonEl =\n",
              "        document.querySelector('#df-d4016dc7-564d-4eab-bc96-90e595953b2b button.colab-df-convert');\n",
              "      buttonEl.style.display =\n",
              "        google.colab.kernel.accessAllowed ? 'block' : 'none';\n",
              "\n",
              "      async function convertToInteractive(key) {\n",
              "        const element = document.querySelector('#df-d4016dc7-564d-4eab-bc96-90e595953b2b');\n",
              "        const dataTable =\n",
              "          await google.colab.kernel.invokeFunction('convertToInteractive',\n",
              "                                                    [key], {});\n",
              "        if (!dataTable) return;\n",
              "\n",
              "        const docLinkHtml = 'Like what you see? Visit the ' +\n",
              "          '<a target=\"_blank\" href=https://colab.research.google.com/notebooks/data_table.ipynb>data table notebook</a>'\n",
              "          + ' to learn more about interactive tables.';\n",
              "        element.innerHTML = '';\n",
              "        dataTable['output_type'] = 'display_data';\n",
              "        await google.colab.output.renderOutput(dataTable, element);\n",
              "        const docLink = document.createElement('div');\n",
              "        docLink.innerHTML = docLinkHtml;\n",
              "        element.appendChild(docLink);\n",
              "      }\n",
              "    </script>\n",
              "  </div>\n",
              "\n",
              "\n",
              "<div id=\"df-73e99383-b618-48a0-8aa3-89620c076484\">\n",
              "  <button class=\"colab-df-quickchart\" onclick=\"quickchart('df-73e99383-b618-48a0-8aa3-89620c076484')\"\n",
              "            title=\"Suggest charts\"\n",
              "            style=\"display:none;\">\n",
              "\n",
              "<svg xmlns=\"http://www.w3.org/2000/svg\" height=\"24px\"viewBox=\"0 0 24 24\"\n",
              "     width=\"24px\">\n",
              "    <g>\n",
              "        <path d=\"M19 3H5c-1.1 0-2 .9-2 2v14c0 1.1.9 2 2 2h14c1.1 0 2-.9 2-2V5c0-1.1-.9-2-2-2zM9 17H7v-7h2v7zm4 0h-2V7h2v10zm4 0h-2v-4h2v4z\"/>\n",
              "    </g>\n",
              "</svg>\n",
              "  </button>\n",
              "\n",
              "<style>\n",
              "  .colab-df-quickchart {\n",
              "      --bg-color: #E8F0FE;\n",
              "      --fill-color: #1967D2;\n",
              "      --hover-bg-color: #E2EBFA;\n",
              "      --hover-fill-color: #174EA6;\n",
              "      --disabled-fill-color: #AAA;\n",
              "      --disabled-bg-color: #DDD;\n",
              "  }\n",
              "\n",
              "  [theme=dark] .colab-df-quickchart {\n",
              "      --bg-color: #3B4455;\n",
              "      --fill-color: #D2E3FC;\n",
              "      --hover-bg-color: #434B5C;\n",
              "      --hover-fill-color: #FFFFFF;\n",
              "      --disabled-bg-color: #3B4455;\n",
              "      --disabled-fill-color: #666;\n",
              "  }\n",
              "\n",
              "  .colab-df-quickchart {\n",
              "    background-color: var(--bg-color);\n",
              "    border: none;\n",
              "    border-radius: 50%;\n",
              "    cursor: pointer;\n",
              "    display: none;\n",
              "    fill: var(--fill-color);\n",
              "    height: 32px;\n",
              "    padding: 0;\n",
              "    width: 32px;\n",
              "  }\n",
              "\n",
              "  .colab-df-quickchart:hover {\n",
              "    background-color: var(--hover-bg-color);\n",
              "    box-shadow: 0 1px 2px rgba(60, 64, 67, 0.3), 0 1px 3px 1px rgba(60, 64, 67, 0.15);\n",
              "    fill: var(--button-hover-fill-color);\n",
              "  }\n",
              "\n",
              "  .colab-df-quickchart-complete:disabled,\n",
              "  .colab-df-quickchart-complete:disabled:hover {\n",
              "    background-color: var(--disabled-bg-color);\n",
              "    fill: var(--disabled-fill-color);\n",
              "    box-shadow: none;\n",
              "  }\n",
              "\n",
              "  .colab-df-spinner {\n",
              "    border: 2px solid var(--fill-color);\n",
              "    border-color: transparent;\n",
              "    border-bottom-color: var(--fill-color);\n",
              "    animation:\n",
              "      spin 1s steps(1) infinite;\n",
              "  }\n",
              "\n",
              "  @keyframes spin {\n",
              "    0% {\n",
              "      border-color: transparent;\n",
              "      border-bottom-color: var(--fill-color);\n",
              "      border-left-color: var(--fill-color);\n",
              "    }\n",
              "    20% {\n",
              "      border-color: transparent;\n",
              "      border-left-color: var(--fill-color);\n",
              "      border-top-color: var(--fill-color);\n",
              "    }\n",
              "    30% {\n",
              "      border-color: transparent;\n",
              "      border-left-color: var(--fill-color);\n",
              "      border-top-color: var(--fill-color);\n",
              "      border-right-color: var(--fill-color);\n",
              "    }\n",
              "    40% {\n",
              "      border-color: transparent;\n",
              "      border-right-color: var(--fill-color);\n",
              "      border-top-color: var(--fill-color);\n",
              "    }\n",
              "    60% {\n",
              "      border-color: transparent;\n",
              "      border-right-color: var(--fill-color);\n",
              "    }\n",
              "    80% {\n",
              "      border-color: transparent;\n",
              "      border-right-color: var(--fill-color);\n",
              "      border-bottom-color: var(--fill-color);\n",
              "    }\n",
              "    90% {\n",
              "      border-color: transparent;\n",
              "      border-bottom-color: var(--fill-color);\n",
              "    }\n",
              "  }\n",
              "</style>\n",
              "\n",
              "  <script>\n",
              "    async function quickchart(key) {\n",
              "      const quickchartButtonEl =\n",
              "        document.querySelector('#' + key + ' button');\n",
              "      quickchartButtonEl.disabled = true;  // To prevent multiple clicks.\n",
              "      quickchartButtonEl.classList.add('colab-df-spinner');\n",
              "      try {\n",
              "        const charts = await google.colab.kernel.invokeFunction(\n",
              "            'suggestCharts', [key], {});\n",
              "      } catch (error) {\n",
              "        console.error('Error during call to suggestCharts:', error);\n",
              "      }\n",
              "      quickchartButtonEl.classList.remove('colab-df-spinner');\n",
              "      quickchartButtonEl.classList.add('colab-df-quickchart-complete');\n",
              "    }\n",
              "    (() => {\n",
              "      let quickchartButtonEl =\n",
              "        document.querySelector('#df-73e99383-b618-48a0-8aa3-89620c076484 button');\n",
              "      quickchartButtonEl.style.display =\n",
              "        google.colab.kernel.accessAllowed ? 'block' : 'none';\n",
              "    })();\n",
              "  </script>\n",
              "</div>\n",
              "\n",
              "    </div>\n",
              "  </div>\n"
            ],
            "application/vnd.google.colaboratory.intrinsic+json": {
              "type": "dataframe",
              "variable_name": "df",
              "summary": "{\n  \"name\": \"df\",\n  \"rows\": 43708,\n  \"fields\": [\n    {\n      \"column\": \"order_id\",\n      \"properties\": {\n        \"dtype\": \"category\",\n        \"num_unique_values\": 20607,\n        \"samples\": [\n          \"c1ccdd97-5f96-4545-a0c4-0107a35a4ce4\",\n          \"ef5851b5-9d1c-4628-b48f-c90f7eee9984\",\n          \"53b79a2d-8343-4f03-bcb2-4a50d107b836\"\n        ],\n        \"semantic_type\": \"\",\n        \"description\": \"\"\n      }\n    },\n    {\n      \"column\": \"customer_number\",\n      \"properties\": {\n        \"dtype\": \"category\",\n        \"num_unique_values\": 3397,\n        \"samples\": [\n          \"ID_123808\",\n          \"ID_180594\",\n          \"ID_114760\"\n        ],\n        \"semantic_type\": \"\",\n        \"description\": \"\"\n      }\n    },\n    {\n      \"column\": \"transaction_date\",\n      \"properties\": {\n        \"dtype\": \"date\",\n        \"min\": \"2022-02-09 00:00:00\",\n        \"max\": \"2022-03-31 00:00:00\",\n        \"num_unique_values\": 51,\n        \"samples\": [\n          \"2022-03-05 00:00:00\",\n          \"2022-02-23 00:00:00\",\n          \"2022-02-11 00:00:00\"\n        ],\n        \"semantic_type\": \"\",\n        \"description\": \"\"\n      }\n    },\n    {\n      \"column\": \"description\",\n      \"properties\": {\n        \"dtype\": \"category\",\n        \"num_unique_values\": 487,\n        \"samples\": [\n          \"Sunsalt Salt 2KG BALE (10.0 PC)\",\n          \"Softcare Pocket Wipes 80 PC CARTON (1.0 CTN)\",\n          \"Elliots Wheat Flour Atta Mark 1 2KG BALE (12.0 PC)\"\n        ],\n        \"semantic_type\": \"\",\n        \"description\": \"\"\n      }\n    },\n    {\n      \"column\": \"total_qty\",\n      \"properties\": {\n        \"dtype\": \"number\",\n        \"std\": 13,\n        \"min\": 1,\n        \"max\": 500,\n        \"num_unique_values\": 88,\n        \"samples\": [\n          43,\n          6,\n          11\n        ],\n        \"semantic_type\": \"\",\n        \"description\": \"\"\n      }\n    },\n    {\n      \"column\": \"net_total\",\n      \"properties\": {\n        \"dtype\": \"number\",\n        \"std\": 30236.79480353975,\n        \"min\": 181.03,\n        \"max\": 1379599.14,\n        \"num_unique_values\": 10784,\n        \"samples\": [\n          2074.57,\n          3022.57,\n          13788.65\n        ],\n        \"semantic_type\": \"\",\n        \"description\": \"\"\n      }\n    },\n    {\n      \"column\": \"loyalty_amount\",\n      \"properties\": {\n        \"dtype\": \"number\",\n        \"std\": 0,\n        \"min\": 0,\n        \"max\": 0,\n        \"num_unique_values\": 1,\n        \"samples\": [\n          0\n        ],\n        \"semantic_type\": \"\",\n        \"description\": \"\"\n      }\n    },\n    {\n      \"column\": \"loyalty_points\",\n      \"properties\": {\n        \"dtype\": \"number\",\n        \"std\": 0,\n        \"min\": 0,\n        \"max\": 0,\n        \"num_unique_values\": 1,\n        \"samples\": [\n          0\n        ],\n        \"semantic_type\": \"\",\n        \"description\": \"\"\n      }\n    },\n    {\n      \"column\": \"discount_amount\",\n      \"properties\": {\n        \"dtype\": \"number\",\n        \"std\": 496.70117211121936,\n        \"min\": 0.0,\n        \"max\": 20231.25,\n        \"num_unique_values\": 6446,\n        \"samples\": [\n          30.03\n        ],\n        \"semantic_type\": \"\",\n        \"description\": \"\"\n      }\n    },\n    {\n      \"column\": \"customer_group\",\n      \"properties\": {\n        \"dtype\": \"category\",\n        \"num_unique_values\": 2,\n        \"samples\": [\n          \"All Customer Groups\"\n        ],\n        \"semantic_type\": \"\",\n        \"description\": \"\"\n      }\n    },\n    {\n      \"column\": \"territory\",\n      \"properties\": {\n        \"dtype\": \"category\",\n        \"num_unique_values\": 19,\n        \"samples\": [\n          \"Meru\"\n        ],\n        \"semantic_type\": \"\",\n        \"description\": \"\"\n      }\n    },\n    {\n      \"column\": \"delivery_date\",\n      \"properties\": {\n        \"dtype\": \"date\",\n        \"min\": \"2022-02-11 00:00:00\",\n        \"max\": \"2022-04-02 00:00:00\",\n        \"num_unique_values\": 44,\n        \"samples\": [\n          \"2022-02-15 00:00:00\"\n        ],\n        \"semantic_type\": \"\",\n        \"description\": \"\"\n      }\n    },\n    {\n      \"column\": \"delivery_window_end_time\",\n      \"properties\": {\n        \"dtype\": \"object\",\n        \"num_unique_values\": 7,\n        \"samples\": [\n          \"19:00:00\"\n        ],\n        \"semantic_type\": \"\",\n        \"description\": \"\"\n      }\n    },\n    {\n      \"column\": \"delivery_window_start_time\",\n      \"properties\": {\n        \"dtype\": \"object\",\n        \"num_unique_values\": 5,\n        \"samples\": [\n          \"08:00:00\"\n        ],\n        \"semantic_type\": \"\",\n        \"description\": \"\"\n      }\n    },\n    {\n      \"column\": \"set_warehouse\",\n      \"properties\": {\n        \"dtype\": \"category\",\n        \"num_unique_values\": 19,\n        \"samples\": [\n          \"Meru Main - KDKE\"\n        ],\n        \"semantic_type\": \"\",\n        \"description\": \"\"\n      }\n    },\n    {\n      \"column\": \"duka_latitude\",\n      \"properties\": {\n        \"dtype\": \"number\",\n        \"std\": 1.0663926921498037,\n        \"min\": -4.2898334,\n        \"max\": 0.8851695,\n        \"num_unique_values\": 3343,\n        \"samples\": [\n          -0.4721181\n        ],\n        \"semantic_type\": \"\",\n        \"description\": \"\"\n      }\n    },\n    {\n      \"column\": \"duka_longitude\",\n      \"properties\": {\n        \"dtype\": \"number\",\n        \"std\": 1.1306376470890864,\n        \"min\": 34.4557512,\n        \"max\": 40.1218961,\n        \"num_unique_values\": 3258,\n        \"samples\": [\n          36.6594823\n        ],\n        \"semantic_type\": \"\",\n        \"description\": \"\"\n      }\n    },\n    {\n      \"column\": \"days_since_last_purchase\",\n      \"properties\": {\n        \"dtype\": \"number\",\n        \"std\": 7,\n        \"min\": 0,\n        \"max\": 49,\n        \"num_unique_values\": 49,\n        \"samples\": [\n          14\n        ],\n        \"semantic_type\": \"\",\n        \"description\": \"\"\n      }\n    },\n    {\n      \"column\": \"churn\",\n      \"properties\": {\n        \"dtype\": \"number\",\n        \"std\": 0,\n        \"min\": 0,\n        \"max\": 1,\n        \"num_unique_values\": 2,\n        \"samples\": [\n          1\n        ],\n        \"semantic_type\": \"\",\n        \"description\": \"\"\n      }\n    }\n  ]\n}"
            }
          },
          "metadata": {},
          "execution_count": 29
        }
      ]
    },
    {
      "cell_type": "markdown",
      "source": [
        "# Exploratory Data Analysis\n",
        "\n",
        "**Descriptive Statistics**\n",
        "\n",
        "Key Insights:\n",
        "\n",
        "• Average quantity per transaction: 6.60 (range: 1 to 500)\n",
        "\n",
        "• Average net total per transaction: KES 10,463.88 (high standard deviation:\n",
        "30,236.79)\n",
        "\n",
        "• No recorded activity for loyalty amounts or points\n",
        "\n",
        "• Average discount amount: KES 178.74 (max: KES 20,231.25)\n",
        "\n",
        "• Geographic focus: likely East Africa (Kenya) based on coordinates"
      ],
      "metadata": {
        "id": "I31gElDuUSNU"
      }
    },
    {
      "cell_type": "code",
      "source": [
        "#Average quantity per transaction\n",
        "df['total_qty'].mean()"
      ],
      "metadata": {
        "colab": {
          "base_uri": "https://localhost:8080/"
        },
        "id": "vyhf3ZoVU2x4",
        "outputId": "91d48b13-6563-4cec-924a-bfa8f0ac42a0"
      },
      "execution_count": null,
      "outputs": [
        {
          "output_type": "execute_result",
          "data": {
            "text/plain": [
              "6.60135444312254"
            ]
          },
          "metadata": {},
          "execution_count": 30
        }
      ]
    },
    {
      "cell_type": "code",
      "source": [
        "#Range of quantity per transaction\n",
        "df['total_qty'].min(), df['total_qty'].max()"
      ],
      "metadata": {
        "colab": {
          "base_uri": "https://localhost:8080/"
        },
        "id": "NngXqifnVVBc",
        "outputId": "9dcec837-4084-4f1d-cf4b-56ff52199bb8"
      },
      "execution_count": null,
      "outputs": [
        {
          "output_type": "execute_result",
          "data": {
            "text/plain": [
              "(1, 500)"
            ]
          },
          "metadata": {},
          "execution_count": 31
        }
      ]
    },
    {
      "cell_type": "code",
      "source": [
        "#Average net total per transaction\n",
        "df['net_total'].mean()"
      ],
      "metadata": {
        "colab": {
          "base_uri": "https://localhost:8080/"
        },
        "id": "Gz_16vyBVH-5",
        "outputId": "e919819c-7c2e-4afc-a3d1-68bf238b2fd8"
      },
      "execution_count": null,
      "outputs": [
        {
          "output_type": "execute_result",
          "data": {
            "text/plain": [
              "10463.88472384918"
            ]
          },
          "metadata": {},
          "execution_count": 32
        }
      ]
    },
    {
      "cell_type": "code",
      "source": [
        "#Standard deviation of net total per transacrion\n",
        "df['net_total'].std()"
      ],
      "metadata": {
        "colab": {
          "base_uri": "https://localhost:8080/"
        },
        "id": "QLFUf0c8VnxB",
        "outputId": "e1b2839d-42ab-4f7e-985e-37f6c6e45410"
      },
      "execution_count": null,
      "outputs": [
        {
          "output_type": "execute_result",
          "data": {
            "text/plain": [
              "30236.79480353975"
            ]
          },
          "metadata": {},
          "execution_count": 33
        }
      ]
    },
    {
      "cell_type": "code",
      "source": [
        "#Sum of loyalty amount\n",
        "df['loyalty_amount'].sum()"
      ],
      "metadata": {
        "colab": {
          "base_uri": "https://localhost:8080/"
        },
        "id": "YnwhbT38WKOV",
        "outputId": "6add7883-61a8-4307-d9a3-43327a01a5e2"
      },
      "execution_count": null,
      "outputs": [
        {
          "output_type": "execute_result",
          "data": {
            "text/plain": [
              "0"
            ]
          },
          "metadata": {},
          "execution_count": 34
        }
      ]
    },
    {
      "cell_type": "markdown",
      "source": [
        "# Univariate Analysis\n",
        "\n",
        "• Churn Distribution: 97.1% active, 2.9% churned\n",
        "\n",
        "• Territories: Kawangware, Juja, and Eastlands are dominant\n",
        "\n",
        "• Customer Groups: Majority are individuals\n",
        "\n",
        "• Net Total Orders: Highly skewed distribution\n",
        "\n",
        "• Total Quantity in Orders: Right-skewed distribution\n",
        "\n",
        "• Discount Amount: Heavily right-skewed"
      ],
      "metadata": {
        "id": "nEMa7-Y_WdFq"
      }
    },
    {
      "cell_type": "code",
      "source": [
        "# Step 1: Get the distribution of the churn column\n",
        "churn_distribution = df['churn'].value_counts()\n",
        "churn_distribution"
      ],
      "metadata": {
        "colab": {
          "base_uri": "https://localhost:8080/",
          "height": 178
        },
        "id": "KTq8XUGecsGb",
        "outputId": "d806e036-eeaa-486f-a87c-4958ba90c8bd"
      },
      "execution_count": null,
      "outputs": [
        {
          "output_type": "execute_result",
          "data": {
            "text/plain": [
              "churn\n",
              "0    42627\n",
              "1     1081\n",
              "Name: count, dtype: int64"
            ],
            "text/html": [
              "<div>\n",
              "<style scoped>\n",
              "    .dataframe tbody tr th:only-of-type {\n",
              "        vertical-align: middle;\n",
              "    }\n",
              "\n",
              "    .dataframe tbody tr th {\n",
              "        vertical-align: top;\n",
              "    }\n",
              "\n",
              "    .dataframe thead th {\n",
              "        text-align: right;\n",
              "    }\n",
              "</style>\n",
              "<table border=\"1\" class=\"dataframe\">\n",
              "  <thead>\n",
              "    <tr style=\"text-align: right;\">\n",
              "      <th></th>\n",
              "      <th>count</th>\n",
              "    </tr>\n",
              "    <tr>\n",
              "      <th>churn</th>\n",
              "      <th></th>\n",
              "    </tr>\n",
              "  </thead>\n",
              "  <tbody>\n",
              "    <tr>\n",
              "      <th>0</th>\n",
              "      <td>42627</td>\n",
              "    </tr>\n",
              "    <tr>\n",
              "      <th>1</th>\n",
              "      <td>1081</td>\n",
              "    </tr>\n",
              "  </tbody>\n",
              "</table>\n",
              "</div><br><label><b>dtype:</b> int64</label>"
            ]
          },
          "metadata": {},
          "execution_count": 35
        }
      ]
    },
    {
      "cell_type": "code",
      "source": [
        "# Distribution of the territories\n",
        "territories = df['territory'].value_counts()\n",
        "\n",
        "# Plot the horizontal bar chart\n",
        "plt.figure(figsize=(6, 5))\n",
        "territories.plot(kind='barh', color='lightgreen')\n",
        "\n",
        "# Add labels and title\n",
        "plt.title('Distribution of Territories')\n",
        "plt.xlabel('Frequency')  # Now the frequency is on the x-axis\n",
        "plt.ylabel('Territory')\n",
        "plt.tight_layout()\n",
        "\n",
        "# Display the plot\n",
        "plt.show()"
      ],
      "metadata": {
        "colab": {
          "base_uri": "https://localhost:8080/",
          "height": 507
        },
        "id": "XRrQVyUDYD96",
        "outputId": "21e0bdc9-cd51-4acf-f41a-d9e0e6e6b5e6"
      },
      "execution_count": null,
      "outputs": [
        {
          "output_type": "display_data",
          "data": {
            "text/plain": [
              "<Figure size 600x500 with 1 Axes>"
            ],
            "image/png": "[encoded data removed]"
          },
          "metadata": {}
        }
      ]
    },
    {
      "cell_type": "code",
      "source": [
        "#Customer Groups\n",
        "customers = df['customer_group'].value_counts()\n",
        "customers"
      ],
      "metadata": {
        "colab": {
          "base_uri": "https://localhost:8080/",
          "height": 178
        },
        "id": "Sv1AzeQ2YECx",
        "outputId": "3103902b-9759-4ecc-93a3-611f282ce781"
      },
      "execution_count": null,
      "outputs": [
        {
          "output_type": "execute_result",
          "data": {
            "text/plain": [
              "customer_group\n",
              "Individual             43596\n",
              "All Customer Groups      112\n",
              "Name: count, dtype: int64"
            ],
            "text/html": [
              "<div>\n",
              "<style scoped>\n",
              "    .dataframe tbody tr th:only-of-type {\n",
              "        vertical-align: middle;\n",
              "    }\n",
              "\n",
              "    .dataframe tbody tr th {\n",
              "        vertical-align: top;\n",
              "    }\n",
              "\n",
              "    .dataframe thead th {\n",
              "        text-align: right;\n",
              "    }\n",
              "</style>\n",
              "<table border=\"1\" class=\"dataframe\">\n",
              "  <thead>\n",
              "    <tr style=\"text-align: right;\">\n",
              "      <th></th>\n",
              "      <th>count</th>\n",
              "    </tr>\n",
              "    <tr>\n",
              "      <th>customer_group</th>\n",
              "      <th></th>\n",
              "    </tr>\n",
              "  </thead>\n",
              "  <tbody>\n",
              "    <tr>\n",
              "      <th>Individual</th>\n",
              "      <td>43596</td>\n",
              "    </tr>\n",
              "    <tr>\n",
              "      <th>All Customer Groups</th>\n",
              "      <td>112</td>\n",
              "    </tr>\n",
              "  </tbody>\n",
              "</table>\n",
              "</div><br><label><b>dtype:</b> int64</label>"
            ]
          },
          "metadata": {},
          "execution_count": 37
        }
      ]
    },
    {
      "cell_type": "code",
      "source": [
        "df.columns"
      ],
      "metadata": {
        "colab": {
          "base_uri": "https://localhost:8080/"
        },
        "id": "V5DGzoPffvDH",
        "outputId": "cec3788f-e76f-4592-bf40-738545a52c0c"
      },
      "execution_count": null,
      "outputs": [
        {
          "output_type": "execute_result",
          "data": {
            "text/plain": [
              "Index(['order_id', 'customer_number', 'transaction_date', 'description',\n",
              "       'total_qty', 'net_total', 'loyalty_amount', 'loyalty_points',\n",
              "       'discount_amount', 'customer_group', 'territory', 'delivery_date',\n",
              "       'delivery_window_end_time', 'delivery_window_start_time',\n",
              "       'set_warehouse', 'duka_latitude', 'duka_longitude',\n",
              "       'days_since_last_purchase', 'churn'],\n",
              "      dtype='object')"
            ]
          },
          "metadata": {},
          "execution_count": 38
        }
      ]
    },
    {
      "cell_type": "markdown",
      "source": [
        "#Bivariate & Multivariate Analysis\n",
        "**1 Bivariate Analysis**\n",
        "\n",
        "• Churn Rate by Customer Group: Higher for individuals\n",
        "\n",
        "• Churn Rate by Territory: Highest in Nakuru , lowest in Ruai\n",
        "\n",
        "• Total Quantity vs. Net Total: Positive correlation\n",
        "\n",
        "• Discount Amount vs. Net Total: Positive correlation, distinct groupings\n",
        "\n",
        "• Churn Status vs. Discount Amount: Higher discounts associated with better retention"
      ],
      "metadata": {
        "id": "7XWPwqJInbLb"
      }
    },
    {
      "cell_type": "code",
      "source": [
        "# Churn count by Customer group\n",
        "churn_by_group = df.groupby('customer_group')['churn'].sum()\n",
        "\n",
        "# Plot the number of customers who churned per customer group\n",
        "plt.figure(figsize=(5, 4))\n",
        "churn_by_group.plot(kind='bar', color='lightgreen')\n",
        "\n",
        "# Add labels and title\n",
        "plt.title('Number of Churned Customers by Customer Group')\n",
        "plt.xlabel('Customer Group')\n",
        "plt.ylabel('Number of Churned Customers')\n",
        "plt.tight_layout()\n",
        "\n",
        "# Display the plot\n",
        "plt.show()\n"
      ],
      "metadata": {
        "colab": {
          "base_uri": "https://localhost:8080/",
          "height": 407
        },
        "id": "cng5czEnnGDs",
        "outputId": "a778f0b9-880c-43ec-d55d-d7f6798f6b91"
      },
      "execution_count": null,
      "outputs": [
        {
          "output_type": "display_data",
          "data": {
            "text/plain": [
              "<Figure size 500x400 with 1 Axes>"
            ],
            "image/png": "[encoded data removed]"
          },
          "metadata": {}
        }
      ]
    },
    {
      "cell_type": "code",
      "source": [
        "# Churn count by Territory\n",
        "churn_by_territory = df.groupby('territory')['churn'].sum()\n",
        "\n",
        "# Plot the number of customers who churned by territory\n",
        "plt.figure(figsize=(6, 6))\n",
        "bars = churn_by_territory.plot(kind='barh', color='lightblue')\n",
        "\n",
        "# Add labels and title\n",
        "plt.title('Number of Churned Customers by Territory')\n",
        "plt.xlabel('Number of Churned Customers')  # Adjusted label for count\n",
        "plt.ylabel('Territory')\n",
        "plt.tight_layout()\n",
        "\n",
        "# Display the plot\n",
        "plt.show()\n",
        "\n"
      ],
      "metadata": {
        "colab": {
          "base_uri": "https://localhost:8080/",
          "height": 607
        },
        "id": "w4CxukmnnGI-",
        "outputId": "7f610c29-4df2-4de7-d246-ee866a94ee05"
      },
      "execution_count": null,
      "outputs": [
        {
          "output_type": "display_data",
          "data": {
            "text/plain": [
              "<Figure size 600x600 with 1 Axes>"
            ],
            "image/png": "[encoded data removed]"
          },
          "metadata": {}
        }
      ]
    },
    {
      "cell_type": "code",
      "source": [
        "# Churn status vs average discount amount\n",
        "avg_discount_by_churn = df.groupby('churn')['discount_amount'].mean()\n",
        "\n",
        "# Plot the average discount amount by churn status\n",
        "plt.figure(figsize=(6, 5))\n",
        "avg_discount_by_churn.plot(kind='bar', color='lightcoral')\n",
        "\n",
        "# Add labels and title\n",
        "plt.title('Average Discount Amount by Churn Status')\n",
        "plt.xlabel('Churn Status (0 = No, 1 = Yes)')\n",
        "plt.ylabel('Average Discount Amount')\n",
        "plt.tight_layout()\n",
        "\n",
        "# Display the plot\n",
        "plt.show()\n"
      ],
      "metadata": {
        "colab": {
          "base_uri": "https://localhost:8080/",
          "height": 507
        },
        "id": "CHmX8-2yrIn2",
        "outputId": "8befb216-3a4e-4341-abd7-f46e207d6f99"
      },
      "execution_count": null,
      "outputs": [
        {
          "output_type": "display_data",
          "data": {
            "text/plain": [
              "<Figure size 600x500 with 1 Axes>"
            ],
            "image/png": "[encoded data removed]"
          },
          "metadata": {}
        }
      ]
    },
    {
      "cell_type": "code",
      "source": [
        "df.columns"
      ],
      "metadata": {
        "colab": {
          "base_uri": "https://localhost:8080/"
        },
        "id": "UaEeNLy5vgAr",
        "outputId": "5ac82937-25e5-499e-eaa0-47bc6af99db2"
      },
      "execution_count": null,
      "outputs": [
        {
          "output_type": "execute_result",
          "data": {
            "text/plain": [
              "Index(['order_id', 'customer_number', 'transaction_date', 'description',\n",
              "       'total_qty', 'net_total', 'loyalty_amount', 'loyalty_points',\n",
              "       'discount_amount', 'customer_group', 'territory', 'delivery_date',\n",
              "       'delivery_window_end_time', 'delivery_window_start_time',\n",
              "       'set_warehouse', 'duka_latitude', 'duka_longitude',\n",
              "       'days_since_last_purchase', 'churn'],\n",
              "      dtype='object')"
            ]
          },
          "metadata": {},
          "execution_count": 42
        }
      ]
    },
    {
      "cell_type": "markdown",
      "source": [
        "#Multivariate Analysis\n",
        "\n",
        "Correlation Insights:\n",
        "\n",
        "• Strong positive correlation between total_qty and net_total (0.85)\n",
        "\n",
        "• Strong positive correlation between total_qty and discount_amount (0.81)\n",
        "\n",
        "• Very strong positive correlation between net_total and discount_amount (0.90)"
      ],
      "metadata": {
        "id": "bp8i60MmxsU4"
      }
    },
    {
      "cell_type": "code",
      "source": [
        "# Select the relevant columns for the heatmap\n",
        "df1 = df[['total_qty', 'net_total', 'discount_amount', 'duka_latitude', 'duka_longitude', 'days_since_last_purchase', 'churn']]\n",
        "# Plot the heatmap for numerical values in the selected DataFrame\n",
        "plt.figure(figsize=(10, 8))\n",
        "sns.heatmap(df1.corr(), annot=True, cmap='coolwarm')\n",
        "\n",
        "# Display the plot\n",
        "plt.show()\n"
      ],
      "metadata": {
        "colab": {
          "base_uri": "https://localhost:8080/",
          "height": 846
        },
        "id": "_t_RZGMftueu",
        "outputId": "2030cdd7-ad7d-4d14-f2fc-c148314c77d7"
      },
      "execution_count": null,
      "outputs": [
        {
          "output_type": "display_data",
          "data": {
            "text/plain": [
              "<Figure size 1000x800 with 2 Axes>"
            ],
            "image/png": "[encoded data removed]"
          },
          "metadata": {}
        }
      ]
    },
    {
      "cell_type": "markdown",
      "source": [
        "#Feature Engineering\n",
        "• Created Order Frequency column\n",
        "\n",
        "• Created Average Order Value Frequency column\n",
        "\n",
        "• Created Total Discounts column\n",
        "\n",
        "• Created Delivery Time column\n",
        "\n",
        "• Encoded Customer Group column\n",
        "\n",
        "• Encoded Territory column\n",
        "\n",
        "• Created Discount Percentage column"
      ],
      "metadata": {
        "id": "vYSpbhe1xljh"
      }
    },
    {
      "cell_type": "code",
      "source": [
        "#Create Order Frequency column\n",
        "df['order_frequency'] = df.groupby('customer_number')['order_id'].transform('count')"
      ],
      "metadata": {
        "id": "5IjdCY4otujf"
      },
      "execution_count": null,
      "outputs": []
    },
    {
      "cell_type": "code",
      "source": [
        "# Create Average Order Value Frequency column\n",
        "df['avg_order_value'] = df.groupby('customer_number')['net_total'].transform('mean')"
      ],
      "metadata": {
        "id": "iNHT7T3Xtun8"
      },
      "execution_count": null,
      "outputs": []
    },
    {
      "cell_type": "code",
      "source": [
        "#Create Total Discounts column\n",
        "df['total_discounts'] = df.groupby('customer_number')['discount_amount'].transform('sum')"
      ],
      "metadata": {
        "id": "2yfgav9Ztus5"
      },
      "execution_count": null,
      "outputs": []
    },
    {
      "cell_type": "code",
      "source": [
        "# Create Delivery Time column\n",
        "df['delivery_time'] = (pd.to_datetime(df['delivery_date']) - pd.to_datetime(df['transaction_date'])).dt.days"
      ],
      "metadata": {
        "id": "nPcwCxrY7YTq"
      },
      "execution_count": null,
      "outputs": []
    },
    {
      "cell_type": "code",
      "source": [
        "#Encode Customer Group column\n",
        "label_encoder = LabelEncoder()\n",
        "df['customer_group_encoded'] = label_encoder.fit_transform(df['customer_group'])"
      ],
      "metadata": {
        "id": "upt_Z2PS7Yh3"
      },
      "execution_count": null,
      "outputs": []
    },
    {
      "cell_type": "code",
      "source": [
        "# Encode Territory column\n",
        "df['territory_encoded'] = label_encoder.fit_transform(df['territory'])"
      ],
      "metadata": {
        "id": "cwqaK94f7Ymi"
      },
      "execution_count": null,
      "outputs": []
    },
    {
      "cell_type": "code",
      "source": [
        "#Create Discount Percentage column\n",
        "df['discount_percentage'] = (df['discount_amount'] / df['net_total']) * 100"
      ],
      "metadata": {
        "id": "nYJRBP7nrItA"
      },
      "execution_count": null,
      "outputs": []
    },
    {
      "cell_type": "markdown",
      "source": [
        "#Data Modeling\n",
        "**Data Preparation**\n",
        "\n",
        "• Created feature matrix and target vector\n",
        "\n",
        "• Split the data into training and test sets\n",
        "\n",
        "• Scaled the data"
      ],
      "metadata": {
        "id": "l_v5Z-qZ-vx7"
      }
    },
    {
      "cell_type": "code",
      "source": [
        "#Create a feature matrix for the model\n",
        "X = df[['order_frequency','total_qty','net_total','total_discounts','territory_encoded',\n",
        "         'customer_group_encoded','avg_order_value','delivery_time' ]]\n",
        "#Create a target vector for the model\n",
        "y = df['churn']\n",
        "\n",
        "#Split the data into training and test sets\n",
        "X_train, X_test, y_train, y_test = train_test_split(X, y, test_size=0.2, random_state=42)\n",
        "\n",
        "# Initialize the StandardScaler\n",
        "scaler = StandardScaler()\n",
        "\n",
        "# Fit the scaler on the training data and transform both training and test data\n",
        "X_train_scaled = scaler.fit_transform(X_train)\n",
        "X_test_scaled = scaler.transform(X_test)\n"
      ],
      "metadata": {
        "id": "NX9q1P7gCEJI"
      },
      "execution_count": null,
      "outputs": []
    },
    {
      "cell_type": "markdown",
      "source": [
        "#Dealing with Class Imbalance\n",
        "Applied SMOTE (Synthetic Minority Over-sampling Technique)"
      ],
      "metadata": {
        "id": "bV4lwY5qCkBJ"
      }
    },
    {
      "cell_type": "code",
      "source": [
        "#SMOTE technique\n",
        "from imblearn.over_sampling import SMOTE\n",
        "smote = SMOTE(random_state=42)\n",
        "X_train_resampled, y_train_resampled = smote.fit_resample(X_train_scaled, y_train)"
      ],
      "metadata": {
        "id": "JpA7QQqnCjVI"
      },
      "execution_count": null,
      "outputs": []
    },
    {
      "cell_type": "code",
      "source": [
        "#Fit logistic regression and random forest model\n",
        "lr = LogisticRegression()\n",
        "lr.fit(X_train_resampled, y_train_resampled)\n",
        "\n",
        "#Make predictions\n",
        "y_pred = lr.predict(X_test_scaled)\n",
        "\n",
        "#Evaluate our model\n",
        "print(\"\\nClassification Report:\")\n",
        "print(classification_report(y_test, y_pred))\n"
      ],
      "metadata": {
        "colab": {
          "base_uri": "https://localhost:8080/"
        },
        "id": "gT-5MnwR-Agg",
        "outputId": "6f55e17d-d6e1-49a0-811c-53fd11bbd9db"
      },
      "execution_count": null,
      "outputs": [
        {
          "output_type": "stream",
          "name": "stdout",
          "text": [
            "\n",
            "Classification Report:\n",
            "              precision    recall  f1-score   support\n",
            "\n",
            "           0       1.00      0.82      0.90      8519\n",
            "           1       0.12      0.92      0.21       223\n",
            "\n",
            "    accuracy                           0.82      8742\n",
            "   macro avg       0.56      0.87      0.56      8742\n",
            "weighted avg       0.98      0.82      0.88      8742\n",
            "\n"
          ]
        }
      ]
    },
    {
      "cell_type": "code",
      "source": [
        "#fit a randomforest classifier\n",
        "rf = RandomForestClassifier()\n",
        "rf.fit(X_train_resampled, y_train_resampled)\n",
        "\n",
        "#Make predictions\n",
        "y_pred = rf.predict(X_test_scaled)\n",
        "\n",
        "#Evaluate our model\n",
        "print(\"\\nClassification Report:\")\n",
        "print(classification_report(y_test, y_pred))"
      ],
      "metadata": {
        "colab": {
          "base_uri": "https://localhost:8080/"
        },
        "id": "wDe-Vn40Cajx",
        "outputId": "b1d596ff-0d64-47eb-bc05-934d5e6e68f0"
      },
      "execution_count": null,
      "outputs": [
        {
          "output_type": "stream",
          "name": "stdout",
          "text": [
            "\n",
            "Classification Report:\n",
            "              precision    recall  f1-score   support\n",
            "\n",
            "           0       1.00      0.99      1.00      8519\n",
            "           1       0.81      0.87      0.84       223\n",
            "\n",
            "    accuracy                           0.99      8742\n",
            "   macro avg       0.90      0.93      0.92      8742\n",
            "weighted avg       0.99      0.99      0.99      8742\n",
            "\n"
          ]
        }
      ]
    },
    {
      "cell_type": "code",
      "source": [
        "#Fit a Decision tree classifier\n",
        "from sklearn.tree import DecisionTreeClassifier\n",
        "from sklearn.metrics import accuracy_score, confusion_matrix, classification_report\n",
        "\n",
        "# Create a Decision Tree Classifier\n",
        "clf = DecisionTreeClassifier(random_state=42)\n",
        "\n",
        "clf.fit(X_train_resampled, y_train_resampled)\n",
        "y_pred = clf.predict(X_test_scaled)\n",
        "\n",
        "accuracy = accuracy_score(y_test, y_pred)\n",
        "conf_matrix = confusion_matrix(y_test, y_pred)\n",
        "class_report = classification_report(y_test, y_pred)\n",
        "\n",
        "# Print the evaluation results\n",
        "print(f'Accuracy: {accuracy * 100:.2f}%')\n",
        "print('Classification Report:')\n",
        "print(class_report)\n",
        "\n",
        "\n",
        "\n"
      ],
      "metadata": {
        "colab": {
          "base_uri": "https://localhost:8080/"
        },
        "id": "gXIZQt3pCaot",
        "outputId": "32e32fa0-6986-4a02-9361-c322d7c5431c"
      },
      "execution_count": null,
      "outputs": [
        {
          "output_type": "stream",
          "name": "stdout",
          "text": [
            "Accuracy: 98.98%\n",
            "Classification Report:\n",
            "              precision    recall  f1-score   support\n",
            "\n",
            "           0       1.00      0.99      0.99      8519\n",
            "           1       0.75      0.89      0.82       223\n",
            "\n",
            "    accuracy                           0.99      8742\n",
            "   macro avg       0.88      0.94      0.91      8742\n",
            "weighted avg       0.99      0.99      0.99      8742\n",
            "\n"
          ]
        }
      ]
    },
    {
      "cell_type": "markdown",
      "source": [
        "#Summary of Findings\n",
        "**Data Overview:**\n",
        "\n",
        "The dataset consists of 43,718 records across 17 variables, including identifiers, dates, descrip-\n",
        "tions, quantities, financial amounts, customer information, geographic coordinates, and timestamps. After removing 10 duplicate records, the dataset was found to have no missing values.\n",
        "\n",
        "**Churn Definition and Analysis**\n",
        "\n",
        "Churn was defined as a customer having no orders in the last 30 days. The analysis revealed that 2.9\n",
        "\n",
        "**Customer Segmentation**\n",
        "\n",
        "The majority of customers are individuals, while the \"All Customer Groups\" category represents a small portion of the customer base.\n",
        "\n",
        "**Churn Analysis**\n",
        "\n",
        "The highest churn rates are observed in Nakuru (6.74%), Mtwapa Mombasa (5.67%), Kisumu1 (5.42%), and Eldoret (4.79%), while the lowest churn rates are in Ruai (0.74%), Juja (1.23%) and Voi (1.31%).\n",
        "\n",
        "**Correlation Analysis**\n",
        "\n",
        "Total quantity and net total had Strong positive correlation of 0.85\n",
        "\n",
        "Total quantity and discount amount had  Strong positive correlation of 0.81\n",
        "\n",
        "Net total and discount amount have a Very strong positive correlation of  0.90\n"
      ],
      "metadata": {
        "id": "QsgbVpSXI0F-"
      }
    },
    {
      "cell_type": "markdown",
      "source": [],
      "metadata": {
        "id": "UkNr2DYPKmrw"
      }
    },
    {
      "cell_type": "markdown",
      "source": [
        "#RECOMMENDATIONS\n",
        "**My three main ideas on how to decrease the churn rate are:**\n",
        "\n",
        "1. Targeted Retention Strategies for High-Churn Territories -  Focus on implementing targeted retention strategies in high-churn territories,particularly Nakuru, Mtwapa Mombasa, Kisumu1, and Eldoret.\n",
        "\n",
        "2. Revamp and Relaunch Loyalty Program - Conduct a comprehensive review of the current loyalty program structure and benefits to identify gaps and areas for improvement.\n",
        "\n",
        "3. Optimize Discount Strategies -\n",
        "\n",
        "• Analyze the impact of different discount levels on customer retention and lifetime value,\n",
        "identifying optimal discount rates that maximize revenue without eroding profit margins.\n",
        "\n",
        "• Implement a dynamic pricing model that offers personalized discounts based on customer\n",
        "purchase history and churn risk, tailoring discounts to individual customer profiles."
      ],
      "metadata": {
        "id": "kF2kgfngKmuv"
      }
    },
    {
      "cell_type": "code",
      "source": [],
      "metadata": {
        "id": "hBJeqLat6-X2"
      },
      "execution_count": null,
      "outputs": []
    }
  ]
}